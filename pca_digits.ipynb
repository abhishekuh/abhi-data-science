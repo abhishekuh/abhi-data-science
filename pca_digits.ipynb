{
 "cells": [
  {
   "cell_type": "code",
   "execution_count": 31,
   "metadata": {},
   "outputs": [],
   "source": [
    "import pandas as pd\n",
    "import numpy as np\n",
    "import seaborn as sns\n",
    "import matplotlib.pyplot as plt\n",
    "%matplotlib inline\n",
    "from sklearn.model_selection import train_test_split\n",
    "from sklearn.linear_model import LogisticRegression\n",
    "from sklearn import metrics\n",
    "from sklearn.metrics import confusion_matrix"
   ]
  },
  {
   "cell_type": "code",
   "execution_count": 2,
   "metadata": {},
   "outputs": [],
   "source": [
    "from sklearn.datasets import load_digits\n",
    "data = load_digits()"
   ]
  },
  {
   "cell_type": "code",
   "execution_count": 3,
   "metadata": {},
   "outputs": [
    {
     "data": {
      "text/plain": [
       "array([[ 0.,  0.,  5., ...,  0.,  0.,  0.],\n",
       "       [ 0.,  0.,  0., ..., 10.,  0.,  0.],\n",
       "       [ 0.,  0.,  0., ..., 16.,  9.,  0.],\n",
       "       ...,\n",
       "       [ 0.,  0.,  1., ...,  6.,  0.,  0.],\n",
       "       [ 0.,  0.,  2., ..., 12.,  0.,  0.],\n",
       "       [ 0.,  0., 10., ..., 12.,  1.,  0.]])"
      ]
     },
     "execution_count": 3,
     "metadata": {},
     "output_type": "execute_result"
    }
   ],
   "source": [
    "data.data"
   ]
  },
  {
   "cell_type": "code",
   "execution_count": 4,
   "metadata": {},
   "outputs": [
    {
     "data": {
      "text/plain": [
       "array([0, 1, 2, ..., 8, 9, 8])"
      ]
     },
     "execution_count": 4,
     "metadata": {},
     "output_type": "execute_result"
    }
   ],
   "source": [
    "data.target"
   ]
  },
  {
   "cell_type": "code",
   "execution_count": 5,
   "metadata": {},
   "outputs": [
    {
     "data": {
      "text/plain": [
       "<Figure size 432x288 with 0 Axes>"
      ]
     },
     "metadata": {},
     "output_type": "display_data"
    },
    {
     "data": {
      "image/png": "[encoded data removed]",
      "text/plain": [
       "<Figure size 288x288 with 1 Axes>"
      ]
     },
     "metadata": {
      "needs_background": "light"
     },
     "output_type": "display_data"
    },
    {
     "data": {
      "image/png": "[encoded data removed]",
      "text/plain": [
       "<Figure size 288x288 with 1 Axes>"
      ]
     },
     "metadata": {
      "needs_background": "light"
     },
     "output_type": "display_data"
    },
    {
     "data": {
      "image/png": "[encoded data removed]",
      "text/plain": [
       "<Figure size 288x288 with 1 Axes>"
      ]
     },
     "metadata": {
      "needs_background": "light"
     },
     "output_type": "display_data"
    }
   ],
   "source": [
    "plt.gray() \n",
    "plt.matshow(data.images[1])\n",
    "plt.matshow(data.images[2])\n",
    "plt.matshow(data.images[3]) \n",
    "plt.show() "
   ]
  },
  {
   "cell_type": "code",
   "execution_count": 6,
   "metadata": {},
   "outputs": [],
   "source": [
    "x_train,x_test,y_train,y_test = train_test_split(data.data,data.target,test_size=0.2,random_state=99)"
   ]
  },
  {
   "cell_type": "code",
   "execution_count": 7,
   "metadata": {},
   "outputs": [
    {
     "name": "stderr",
     "output_type": "stream",
     "text": [
      "C:\\Users\\Abhishek\\Anaconda3\\lib\\site-packages\\sklearn\\linear_model\\logistic.py:432: FutureWarning: Default solver will be changed to 'lbfgs' in 0.22. Specify a solver to silence this warning.\n",
      "  FutureWarning)\n",
      "C:\\Users\\Abhishek\\Anaconda3\\lib\\site-packages\\sklearn\\linear_model\\logistic.py:469: FutureWarning: Default multi_class will be changed to 'auto' in 0.22. Specify the multi_class option to silence this warning.\n",
      "  \"this warning.\", FutureWarning)\n"
     ]
    },
    {
     "data": {
      "text/plain": [
       "LogisticRegression(C=1.0, class_weight=None, dual=False, fit_intercept=True,\n",
       "                   intercept_scaling=1, l1_ratio=None, max_iter=100,\n",
       "                   multi_class='warn', n_jobs=None, penalty='l2',\n",
       "                   random_state=None, solver='warn', tol=0.0001, verbose=0,\n",
       "                   warm_start=False)"
      ]
     },
     "execution_count": 7,
     "metadata": {},
     "output_type": "execute_result"
    }
   ],
   "source": [
    "logModel = LogisticRegression()\n",
    "logModel.fit(x_train,y_train)"
   ]
  },
  {
   "cell_type": "code",
   "execution_count": 8,
   "metadata": {},
   "outputs": [],
   "source": [
    "prediction = logModel.predict(x_test)"
   ]
  },
  {
   "cell_type": "code",
   "execution_count": 9,
   "metadata": {},
   "outputs": [
    {
     "data": {
      "text/plain": [
       "array([8, 8, 0, 5, 3, 5, 9, 6, 7, 2, 4, 6, 5, 0, 7, 0, 9, 4, 7, 3, 5, 9,\n",
       "       0, 4, 5, 1, 4, 0, 2, 1, 3, 1, 5, 2, 0, 9, 7, 6, 4, 4, 2, 5, 3, 7,\n",
       "       3, 4, 7, 8, 8, 7, 3, 8, 3, 0, 3, 8, 9, 9, 3, 2, 3, 7, 2, 6, 3, 7,\n",
       "       1, 2, 4, 6, 6, 2, 7, 4, 2, 2, 0, 5, 3, 1, 4, 9, 6, 7, 6, 3, 5, 7,\n",
       "       7, 6, 7, 7, 8, 6, 7, 1, 0, 1, 0, 8, 6, 4, 4, 1, 9, 0, 4, 1, 1, 9,\n",
       "       1, 6, 1, 1, 5, 1, 0, 8, 7, 7, 3, 6, 9, 3, 6, 4, 6, 3, 3, 5, 3, 3,\n",
       "       9, 9, 3, 1, 6, 8, 6, 4, 2, 5, 7, 9, 7, 8, 0, 6, 2, 6, 7, 9, 8, 2,\n",
       "       9, 3, 2, 2, 8, 0, 8, 0, 3, 8, 7, 1, 5, 0, 2, 1, 0, 4, 2, 2, 8, 2,\n",
       "       7, 7, 7, 3, 2, 9, 6, 7, 5, 8, 9, 8, 9, 5, 1, 6, 9, 4, 0, 8, 2, 8,\n",
       "       0, 6, 5, 6, 6, 6, 8, 0, 1, 4, 5, 8, 3, 0, 7, 7, 2, 5, 7, 2, 3, 4,\n",
       "       2, 6, 6, 2, 7, 6, 0, 5, 0, 7, 2, 7, 4, 1, 8, 7, 0, 1, 9, 6, 5, 9,\n",
       "       1, 9, 0, 4, 0, 5, 4, 3, 4, 0, 0, 1, 6, 7, 8, 9, 7, 5, 6, 3, 5, 7,\n",
       "       5, 2, 7, 3, 5, 3, 0, 7, 0, 3, 2, 4, 3, 3, 6, 8, 7, 1, 3, 1, 9, 6,\n",
       "       5, 5, 1, 6, 5, 3, 7, 6, 2, 3, 0, 2, 9, 5, 1, 2, 7, 2, 5, 8, 9, 7,\n",
       "       2, 2, 4, 2, 2, 9, 6, 5, 0, 7, 8, 7, 0, 6, 4, 2, 1, 7, 6, 3, 0, 3,\n",
       "       4, 5, 2, 5, 9, 0, 2, 8, 2, 7, 2, 5, 8, 3, 9, 0, 9, 6, 3, 1, 8, 6,\n",
       "       8, 0, 5, 3, 3, 1, 0, 6])"
      ]
     },
     "execution_count": 9,
     "metadata": {},
     "output_type": "execute_result"
    }
   ],
   "source": [
    "prediction"
   ]
  },
  {
   "cell_type": "code",
   "execution_count": 12,
   "metadata": {},
   "outputs": [
    {
     "data": {
      "text/plain": [
       "array([0])"
      ]
     },
     "execution_count": 12,
     "metadata": {},
     "output_type": "execute_result"
    }
   ],
   "source": [
    "prediction2 = logModel.predict(x_test[2].reshape(1,-1))\n",
    "prediction2"
   ]
  },
  {
   "cell_type": "code",
   "execution_count": 13,
   "metadata": {},
   "outputs": [
    {
     "data": {
      "text/plain": [
       "array([8, 8, 0, 5, 3])"
      ]
     },
     "execution_count": 13,
     "metadata": {},
     "output_type": "execute_result"
    }
   ],
   "source": [
    "prediction3 = logModel.predict(x_test[0:5])\n",
    "prediction3"
   ]
  },
  {
   "cell_type": "code",
   "execution_count": 14,
   "metadata": {},
   "outputs": [
    {
     "name": "stdout",
     "output_type": "stream",
     "text": [
      "Accuracy for logistic regression is\n"
     ]
    },
    {
     "data": {
      "text/plain": [
       "97.77777777777777"
      ]
     },
     "execution_count": 14,
     "metadata": {},
     "output_type": "execute_result"
    }
   ],
   "source": [
    "print('Accuracy for logistic regression is')\n",
    "metrics.accuracy_score(y_test,prediction)*100"
   ]
  },
  {
   "cell_type": "code",
   "execution_count": 21,
   "metadata": {},
   "outputs": [
    {
     "data": {
      "text/plain": [
       "PCA(copy=True, iterated_power='auto', n_components=2, random_state=None,\n",
       "    svd_solver='auto', tol=0.0, whiten=False)"
      ]
     },
     "execution_count": 21,
     "metadata": {},
     "output_type": "execute_result"
    }
   ],
   "source": [
    "from sklearn.decomposition import PCA\n",
    "pca = PCA(n_components =2)\n",
    "pca.fit(x_train)"
   ]
  },
  {
   "cell_type": "code",
   "execution_count": 27,
   "metadata": {},
   "outputs": [
    {
     "data": {
      "text/plain": [
       "((1437, 2), (360, 2))"
      ]
     },
     "execution_count": 27,
     "metadata": {},
     "output_type": "execute_result"
    }
   ],
   "source": [
    "x_train_pca = pca.transform(x_train)\n",
    "x_test_pca = pca.transform(x_test)\n",
    "x_train_pca.shape,x_test_pca.shape"
   ]
  },
  {
   "cell_type": "code",
   "execution_count": 28,
   "metadata": {},
   "outputs": [
    {
     "name": "stderr",
     "output_type": "stream",
     "text": [
      "C:\\Users\\Abhishek\\Anaconda3\\lib\\site-packages\\sklearn\\linear_model\\logistic.py:432: FutureWarning: Default solver will be changed to 'lbfgs' in 0.22. Specify a solver to silence this warning.\n",
      "  FutureWarning)\n",
      "C:\\Users\\Abhishek\\Anaconda3\\lib\\site-packages\\sklearn\\linear_model\\logistic.py:469: FutureWarning: Default multi_class will be changed to 'auto' in 0.22. Specify the multi_class option to silence this warning.\n",
      "  \"this warning.\", FutureWarning)\n"
     ]
    },
    {
     "data": {
      "text/plain": [
       "array([7, 5, 0, 1, 3, 8, 9, 4, 1, 1, 4, 6, 5, 0, 7, 0, 5, 4, 7, 3, 9, 9,\n",
       "       0, 4, 8, 1, 4, 0, 8, 8, 3, 1, 1, 3, 0, 9, 1, 4, 4, 4, 2, 5, 9, 1,\n",
       "       3, 4, 7, 8, 7, 7, 3, 5, 9, 0, 3, 8, 9, 9, 3, 3, 3, 7, 3, 6, 3, 1,\n",
       "       8, 2, 4, 0, 4, 2, 7, 1, 3, 3, 0, 5, 3, 8, 4, 9, 4, 7, 4, 3, 7, 7,\n",
       "       7, 6, 7, 7, 2, 6, 1, 1, 0, 8, 0, 5, 6, 4, 4, 4, 9, 0, 4, 1, 7, 3,\n",
       "       1, 6, 1, 1, 9, 1, 6, 8, 7, 7, 3, 6, 9, 3, 6, 4, 6, 3, 3, 3, 3, 3,\n",
       "       9, 3, 3, 1, 4, 5, 6, 4, 3, 5, 7, 3, 8, 1, 0, 6, 8, 6, 7, 9, 5, 3,\n",
       "       9, 3, 2, 3, 5, 0, 5, 0, 3, 1, 7, 8, 9, 0, 1, 1, 0, 4, 3, 8, 5, 7,\n",
       "       7, 7, 7, 3, 3, 3, 6, 7, 1, 7, 2, 7, 9, 7, 1, 6, 9, 4, 0, 5, 7, 5,\n",
       "       0, 0, 2, 6, 1, 6, 9, 0, 7, 4, 7, 8, 3, 0, 7, 1, 3, 8, 7, 2, 3, 4,\n",
       "       3, 4, 6, 3, 1, 6, 6, 9, 0, 5, 2, 7, 6, 9, 1, 7, 0, 1, 9, 8, 0, 9,\n",
       "       1, 9, 0, 4, 0, 4, 4, 3, 4, 0, 0, 8, 6, 1, 5, 9, 7, 8, 6, 7, 5, 7,\n",
       "       8, 5, 1, 5, 6, 9, 0, 1, 0, 3, 2, 4, 3, 9, 6, 1, 7, 8, 3, 1, 7, 6,\n",
       "       5, 1, 1, 6, 5, 3, 7, 4, 2, 9, 0, 3, 9, 7, 1, 1, 7, 2, 5, 5, 9, 7,\n",
       "       5, 2, 4, 3, 5, 9, 6, 9, 0, 2, 8, 4, 0, 6, 4, 2, 7, 1, 6, 3, 0, 3,\n",
       "       4, 5, 2, 7, 9, 0, 3, 1, 2, 1, 3, 8, 5, 3, 5, 0, 9, 6, 9, 1, 1, 0,\n",
       "       5, 0, 8, 3, 3, 8, 0, 0])"
      ]
     },
     "execution_count": 28,
     "metadata": {},
     "output_type": "execute_result"
    }
   ],
   "source": [
    "logModel.fit(x_train_pca,y_train)\n",
    "prediction_pca = logModel.predict(x_test_pca)\n",
    "prediction_pca"
   ]
  },
  {
   "cell_type": "code",
   "execution_count": 29,
   "metadata": {},
   "outputs": [
    {
     "name": "stdout",
     "output_type": "stream",
     "text": [
      "Accuracy for logistic regression after PCA is\n"
     ]
    },
    {
     "data": {
      "text/plain": [
       "60.27777777777777"
      ]
     },
     "execution_count": 29,
     "metadata": {},
     "output_type": "execute_result"
    }
   ],
   "source": [
    "print('Accuracy for logistic regression after PCA is')\n",
    "metrics.accuracy_score(y_test,prediction_pca)*100"
   ]
  },
  {
   "cell_type": "code",
   "execution_count": 32,
   "metadata": {},
   "outputs": [
    {
     "name": "stdout",
     "output_type": "stream",
     "text": [
      "Confusion matrix is\n",
      "[[36  0  0  0  0  0  2  0  0  0]\n",
      " [ 0 17  0  0  1  1  0  2  7  1]\n",
      " [ 0  3 13 17  0  3  0  2  3  1]\n",
      " [ 0  0  0 33  0  0  0  1  0  6]\n",
      " [ 0  1  0  0 25  0  1  1  0  0]\n",
      " [ 1  4  1  1  1  9  1  5  7  5]\n",
      " [ 4  1  0  0  8  0 27  0  1  0]\n",
      " [ 0 12  1  0  1  0  0 30  1  0]\n",
      " [ 0  6  1  0  0 14  0  4  6  1]\n",
      " [ 0  0  1  4  0  3  0  1  0 21]]\n"
     ]
    }
   ],
   "source": [
    "print('Confusion matrix is')\n",
    "cm = confusion_matrix(y_test,prediction_pca)\n",
    "print(cm)"
   ]
  },
  {
   "cell_type": "code",
   "execution_count": null,
   "metadata": {},
   "outputs": [],
   "source": []
  }
 ],
 "metadata": {
  "kernelspec": {
   "display_name": "Python 3",
   "language": "python",
   "name": "python3"
  },
  "language_info": {
   "codemirror_mode": {
    "name": "ipython",
    "version": 3
   },
   "file_extension": ".py",
   "mimetype": "text/x-python",
   "name": "python",
   "nbconvert_exporter": "python",
   "pygments_lexer": "ipython3",
   "version": "3.7.4"
  }
 },
 "nbformat": 4,
 "nbformat_minor": 2
}
